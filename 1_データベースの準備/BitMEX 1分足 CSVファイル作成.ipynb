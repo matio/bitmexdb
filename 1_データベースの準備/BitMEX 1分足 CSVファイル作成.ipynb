{
 "cells": [
  {
   "cell_type": "code",
   "execution_count": 1,
   "metadata": {
    "collapsed": true
   },
   "outputs": [],
   "source": [
    "from datetime import datetime\n",
    "from time import sleep\n",
    "import requests\n",
    "import numpy as np"
   ]
  },
  {
   "cell_type": "code",
   "execution_count": 2,
   "metadata": {
    "collapsed": true
   },
   "outputs": [],
   "source": [
    "def t2s(the_time):\n",
    "    return datetime.fromtimestamp(int(the_time)).strftime('%Y/%m/%d %H:%M')"
   ]
  },
  {
   "cell_type": "markdown",
   "metadata": {},
   "source": [
    "# MySQL のデータを確認"
   ]
  },
  {
   "cell_type": "code",
   "execution_count": 3,
   "metadata": {
    "collapsed": true
   },
   "outputs": [],
   "source": [
    "import mysql.connector\n",
    "\n",
    "cnt = mysql.connector.connect(\n",
    "    host='localhost',\n",
    "    port='3306',\n",
    "    db='bitmex',\n",
    "    user='bitmex',\n",
    "    password='bitmex',\n",
    "    charset='utf8'\n",
    ")\n",
    "\n",
    "cur = cnt.cursor()"
   ]
  },
  {
   "cell_type": "code",
   "execution_count": 4,
   "metadata": {
    "collapsed": true
   },
   "outputs": [],
   "source": [
    "sql = \"select t from xbtusd_1m order by t asc\"\n",
    "cur.execute(sql)\n",
    "data = cur.fetchall()"
   ]
  },
  {
   "cell_type": "code",
   "execution_count": 5,
   "metadata": {
    "collapsed": true
   },
   "outputs": [],
   "source": [
    "last_bar = None\n",
    "for bar in data:\n",
    "    if int(bar[0]) % (60*60*24) == 0: # 0:00\n",
    "        day_frame = t2s(int(bar[0]))\n",
    "    if last_bar == None:\n",
    "        continue\n",
    "    if int(bar[0])-int(last_bar[0]) != 60:\n",
    "        print( \"Error in the day of {}\".format(day_frame))\n"
   ]
  },
  {
   "cell_type": "markdown",
   "metadata": {},
   "source": [
    "## 全てのデータを取得"
   ]
  },
  {
   "cell_type": "code",
   "execution_count": 6,
   "metadata": {},
   "outputs": [
    {
     "name": "stdout",
     "output_type": "stream",
     "text": [
      "2017/01/01 09:00 (1483228800, 968.3, 968.8, 968.5, 968.7, 12993)\n",
      "1067800\n"
     ]
    }
   ],
   "source": [
    "sql = \"select * from xbtusd_1m order by t asc\"\n",
    "cur.execute(sql)\n",
    "data = cur.fetchall()\n",
    "db_last_t = data[0][0]\n",
    "print(t2s(db_last_t), data[0])\n",
    "print(len(data))"
   ]
  },
  {
   "cell_type": "markdown",
   "metadata": {},
   "source": [
    "## CSVファイルへの書き出し"
   ]
  },
  {
   "cell_type": "code",
   "execution_count": 7,
   "metadata": {
    "collapsed": true
   },
   "outputs": [],
   "source": [
    "import csv\n",
    "header = [\"time\", \"open\", \"high\", \"low\", \"close\", \"volume\"]\n",
    "with open(\"xbtusd_1m.csv\", \"w\") as file:\n",
    "    writer = csv.writer(file, lineterminator='\\n') # 改行コード（\\n）を指定しておく\n",
    "    writer.writerow(header)\n",
    "    writer.writerows(data)"
   ]
  },
  {
   "cell_type": "code",
   "execution_count": null,
   "metadata": {
    "collapsed": true
   },
   "outputs": [],
   "source": []
  }
 ],
 "metadata": {
  "kernelspec": {
   "display_name": "Python 3",
   "language": "python",
   "name": "python3"
  },
  "language_info": {
   "codemirror_mode": {
    "name": "ipython",
    "version": 3
   },
   "file_extension": ".py",
   "mimetype": "text/x-python",
   "name": "python",
   "nbconvert_exporter": "python",
   "pygments_lexer": "ipython3",
   "version": "3.6.3"
  }
 },
 "nbformat": 4,
 "nbformat_minor": 2
}
